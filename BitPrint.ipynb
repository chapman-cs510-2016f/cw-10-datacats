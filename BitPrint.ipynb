{
 "cells": [
  {
   "cell_type": "markdown",
   "metadata": {},
   "source": [
    "# Classwork 10"
   ]
  },
  {
   "cell_type": "markdown",
   "metadata": {
    "collapsed": false
   },
   "source": [
    "In a Jupyter notebook BitPrint.ipynb, describe what print_types does in detail: \n",
    "\n",
    "Print_types takes a value that the user inputs then assigns that character into many different types and outputs it. The reason for is to see how a particular character is stored in memory depending on its' type and this in turn allows the user to see which type is most efficient for the given character and also in general. This excersie allows us to see how C stores variables and how we can efficiently store certain variables for our codes. \n",
    "Our print_types only handles integer numbers. If a string is inputted, it assigns the character to the value 0. If a string of a number is passed in, that number will be converted to an integer through the code itself ie the function 'atoi' in the main function. It does not matter if a number is passed in as a integer or a character, however it does matter if a letter is passed in. \n",
    "\n",
    "Answer the following questions.\n",
    "What are the integer values for the letters ‘A’, ‘Z’, ‘a’, and ‘z’? \n",
    "\n",
    "A: 00000000000000000000000000000000\n",
    "    \n",
    "Z: 00000000000000000000000000000000\n",
    "    \n",
    "a: 00000000000000000000000000000000\n",
    "    \n",
    "z: 00000000000000000000000000000000\n",
    "\n",
    "What are the integer values for the numbers ‘0’, ‘1’, and ‘9’ as characters?\n",
    "    *'0': 00000000000000000000000000000000\n",
    "    *'1': 00000000000000000000000000000001\n",
    "    *'9': 00000000000000000000000000001001\n",
    "\n",
    "If you needed to store a 2D array of 10000x10000 complex numbers, how much memory would it require (in megabytes) if: \n",
    "a) the real and imaginary parts were each shorts? \n",
    "Each variable will take 2 bytes of memory to store. So a 2D array of 10000x10000 complex numbers will take 20000x20000 bytes, or 400,000,000, or 400 Megabytes.\n",
    "b) the real and imaginary parts were each long doubles? (Recall the prefixes: kilo = 10^3, mega = 10^6, giga = 10^9, tera = 10^12, peta = 10^15, exa = 10^18, zetta = 10^21, yotta = 10^24)\n",
    "Each variable will take 16 bytes of memory to store. So a 2D array of 10000x10000 complex numbers will take 160000x160000 bytes, or 25,600,000,000, or 25,600 Megabytes.\n",
    "\n",
    "Work out the algorithm for how the bit string for an unsigned int is interpreted as an integer. Describe this algorithm in your notebook.\n",
    "Unsigned integers use binary numbres which use base 2 and is 16 bits long, and assignes a specific binary code (the bit string) to each integer value. If we start at 0 for example, it's bit string will be 0000000000000000, or 16 zeros. For each number after, a 1 is added to the 16 bit string at the end, and that will be each number's specific bit string value. \n",
    "\n",
    "Work out the algorithm for how the bit string for a (signed) int is interpreted as an integer. How does this differ from an unsigned int? What are the maximum and minimum bounds of each? Describe this algorithm in your notebook.\n",
    "The algorithm for signed integers is the same as for unsigned with the difference being signed integer variables can handle negative values. While storing positive values is the same as with unsigned integers, for negative values, instead of starting with 16 zeros as the initial bit string, it will reverse the order and start with 16 ones, for the value -1, with each sequential negative value, the number 1 is added to the end of the bit string and assigned accordingly. This method is called the 2's complement encoding, and also preserves binary addition. \n",
    "\n",
    "The minimum bound for unsigned is 0, and the maximum is 2^32-1.\n",
    "For signed integers, the minimum bound is -2^31 and the maximum is 2^32-1\n"
   ]
  },
  {
   "cell_type": "markdown",
   "metadata": {},
   "source": [
    "Examine the source code in src/arrays carefully. Compile and run it.\n",
    "In a Jupyter notebook Arrays.ipynb, describe what arrays does in detail:\n",
    "The array function first creates an empty array of size 10, then creates a pointer variable that assigns the address of the beginning of the memory block to each pointer. \n",
    "A smiliar process is done for a string \"Foo bar .\", also with pointer variables pointing to the memory containing the string.\n",
    "The code then assigns the numbers 1-10 to each array element, and then updates the memory block, and assigns it to it's corresponding pointer variable.\n",
    "The final part of the code displays the elements in the arrays, by printing each element of the array, and by printing each element by calling it's specific memory pointer, + 3. The +3 extra arrays displayed contains random numbers or letters because the code did not assign anything to those locations yet. \n",
    "    \n",
    "Change the type of \"array\" to an array of floats. Make sure the code compiles and runs.\n",
    "\n",
    "Change the type of \"memblock\" to a pointer to long double. Make sure the code compiles and runs.\n",
    "\n",
    "Refactor arrays.c to add two new functions: print_arrays and set_arrays. Move the existing code from main into these new functions as appropriate, and call them from main. You will have to think carefully about what types these new functions should be, and what arguments (if any) they should have, of what type(s). Make sure the code compiles and runs.\n",
    "In your notebook, explain what malloc and free do in detail."
   ]
  }
 ],
 "metadata": {
  "kernelspec": {
   "display_name": "Python 2 (SageMath)",
   "language": "python",
   "name": "python2"
  },
  "language_info": {
   "codemirror_mode": {
    "name": "ipython",
    "version": 2
   },
   "file_extension": ".py",
   "mimetype": "text/x-python",
   "name": "python",
   "nbconvert_exporter": "python",
   "pygments_lexer": "ipython2",
   "version": "2.7.10"
  }
 },
 "nbformat": 4,
 "nbformat_minor": 0
}
